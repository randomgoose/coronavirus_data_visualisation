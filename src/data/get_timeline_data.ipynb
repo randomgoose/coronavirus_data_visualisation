{
 "cells": [
  {
   "cell_type": "code",
   "execution_count": 1,
   "metadata": {},
   "outputs": [],
   "source": [
    "import pandas as pd\n",
    "import time\n",
    "import json\n",
    "import pycountry as pc\n",
    "import requests"
   ]
  },
  {
   "cell_type": "markdown",
   "metadata": {},
   "source": [
    "## 下载文件"
   ]
  },
  {
   "cell_type": "code",
   "execution_count": 2,
   "metadata": {},
   "outputs": [],
   "source": [
    "r = requests.get(\"https://coronavirus-tracker-api.herokuapp.com/all\") \n",
    "with open(\"raw/all.json\", \"wb\") as f:\n",
    "    f.write(r.content)"
   ]
  },
  {
   "cell_type": "markdown",
   "metadata": {},
   "source": [
    "## 读取文件"
   ]
  },
  {
   "cell_type": "code",
   "execution_count": 3,
   "metadata": {},
   "outputs": [
    {
     "name": "stdout",
     "output_type": "stream",
     "text": [
      "dict_keys(['confirmed', 'deaths', 'recovered', 'latest'])\n",
      "<class 'dict'>\n"
     ]
    }
   ],
   "source": [
    "with open('raw/all.json','r',encoding='utf8')as fp:\n",
    "    json_data = json.load(fp)\n",
    "    print(json_data.keys())\n",
    "    print(type(json_data))"
   ]
  },
  {
   "cell_type": "code",
   "execution_count": 4,
   "metadata": {},
   "outputs": [
    {
     "data": {
      "text/plain": [
       "dict_keys(['locations', 'latest', 'last_updated', 'source'])"
      ]
     },
     "execution_count": 4,
     "metadata": {},
     "output_type": "execute_result"
    }
   ],
   "source": [
    "json_data['confirmed'].keys()"
   ]
  },
  {
   "cell_type": "code",
   "execution_count": 5,
   "metadata": {
    "scrolled": true
   },
   "outputs": [],
   "source": [
    "confirmed = json_data['confirmed']['locations']\n",
    "deaths = json_data['deaths']['locations']\n",
    "recovered = json_data['recovered']['locations']"
   ]
  },
  {
   "cell_type": "code",
   "execution_count": 6,
   "metadata": {},
   "outputs": [
    {
     "name": "stdout",
     "output_type": "stream",
     "text": [
      "266 266 253\n"
     ]
    }
   ],
   "source": [
    "print(len(confirmed), len(deaths), len(recovered))"
   ]
  },
  {
   "cell_type": "markdown",
   "metadata": {},
   "source": [
    "## 中国各省"
   ]
  },
  {
   "cell_type": "code",
   "execution_count": 7,
   "metadata": {},
   "outputs": [
    {
     "name": "stdout",
     "output_type": "stream",
     "text": [
      "[49, 50, 51, 52, 53, 54, 55, 56, 57, 58, 59, 60, 61, 62, 63, 64, 65, 66, 67, 68, 69, 70, 71, 72, 73, 74, 75, 76, 77, 78, 79, 80, 81]\n"
     ]
    }
   ],
   "source": [
    "china_indexes = []\n",
    "for (index, item) in enumerate(json_data['confirmed']['locations']):\n",
    "    if item['country'] == 'China':\n",
    "        china_indexes.append(index)\n",
    "print(china_indexes)"
   ]
  },
  {
   "cell_type": "code",
   "execution_count": 8,
   "metadata": {},
   "outputs": [],
   "source": [
    "provinces = []\n",
    "for i in china_indexes:\n",
    "    p_dict = {}\n",
    "    p_dict['country'] = confirmed[i]['country']\n",
    "    p_dict['country_code'] = pc.countries.get(\n",
    "        alpha_2=confirmed[i]['country_code']).alpha_3\n",
    "    p_dict['province'] = confirmed[i]['province']\n",
    "    p_dict['coordinates'] = confirmed[i]['coordinates']\n",
    "    p_dict['latest'] = {\n",
    "        'confirmed': confirmed[i]['latest'],\n",
    "        'deaths': deaths[i]['latest'],\n",
    "        'recovered': recovered[i]['latest']\n",
    "    }\n",
    "\n",
    "    timeline = []\n",
    "    for date in confirmed[i]['history'].keys():\n",
    "        date_ = time.strftime(\"%Y-%m-%d\", time.strptime(date, \"%m/%d/%y\"))\n",
    "        #     print({'date': date_, 'confirmed': cnt})\n",
    "        timeline.append({\n",
    "            'date': date_,\n",
    "            'confirmed': confirmed[i]['history'][date],\n",
    "            'deaths': deaths[i]['history'][date],\n",
    "            'recovered': recovered[i]['history'][date]\n",
    "        })\n",
    "    p_dict['timeline'] = timeline\n",
    "\n",
    "    provinces.append(p_dict)"
   ]
  },
  {
   "cell_type": "code",
   "execution_count": 9,
   "metadata": {
    "scrolled": true
   },
   "outputs": [],
   "source": [
    "china_result = pd.DataFrame(provinces)"
   ]
  },
  {
   "cell_type": "code",
   "execution_count": 10,
   "metadata": {},
   "outputs": [],
   "source": [
    "china_result.to_json(\"china_timeline.json\", orient='records')"
   ]
  },
  {
   "cell_type": "markdown",
   "metadata": {},
   "source": [
    "## 世界各国"
   ]
  },
  {
   "cell_type": "code",
   "execution_count": 11,
   "metadata": {
    "scrolled": true
   },
   "outputs": [],
   "source": [
    "DF_confirmed_groups = pd.DataFrame(confirmed).groupby('country')\n",
    "DF_deaths_groups = pd.DataFrame(deaths).groupby('country')\n",
    "DF_recovered_groups = pd.DataFrame(recovered).groupby('country')"
   ]
  },
  {
   "cell_type": "code",
   "execution_count": 12,
   "metadata": {},
   "outputs": [],
   "source": [
    "# pd.DataFrame(confirmed).country.drop_duplicates().tolist()"
   ]
  },
  {
   "cell_type": "code",
   "execution_count": 13,
   "metadata": {},
   "outputs": [
    {
     "name": "stdout",
     "output_type": "stream",
     "text": [
      "188 188 188\n"
     ]
    }
   ],
   "source": [
    "print(len(DF_confirmed_groups), len(DF_deaths_groups), len(DF_recovered_groups))"
   ]
  },
  {
   "cell_type": "code",
   "execution_count": 14,
   "metadata": {},
   "outputs": [],
   "source": [
    "cntry_names = list(DF_confirmed_groups.groups.keys())"
   ]
  },
  {
   "cell_type": "code",
   "execution_count": 15,
   "metadata": {
    "scrolled": true
   },
   "outputs": [],
   "source": [
    "# DF_confirmed_groups.get_group('China')"
   ]
  },
  {
   "cell_type": "code",
   "execution_count": 16,
   "metadata": {},
   "outputs": [],
   "source": [
    "countries = []\n",
    "for cntry in cntry_names:\n",
    "    df = DF_confirmed_groups.get_group(cntry)\n",
    "    df_deaths = DF_deaths_groups.get_group(cntry)\n",
    "    df_recovered = DF_recovered_groups.get_group(cntry)\n",
    "\n",
    "    dates = list(df.history.iloc[0].keys())\n",
    "    timeline = []\n",
    "\n",
    "    for d in dates:\n",
    "        date_ = time.strftime(\"%Y-%m-%d\", time.strptime(d, \"%m/%d/%y\"))\n",
    "\n",
    "        # confirmed each day\n",
    "        sum_confirmed = 0\n",
    "        for h in df.history:\n",
    "            sum_confirmed += h[d]\n",
    "\n",
    "        # deaths each day\n",
    "        sum_deaths = 0\n",
    "        for h in df_deaths.history:\n",
    "            sum_deaths += h[d]\n",
    "\n",
    "        # recovered each day\n",
    "        sum_recovered = 0\n",
    "        for h in df_recovered.history:\n",
    "            sum_recovered += h[d]\n",
    "\n",
    "        timeline.append({\n",
    "            'date': date_,\n",
    "            'confirmed': sum_confirmed,\n",
    "            'deaths': sum_deaths,\n",
    "            'recovered': sum_recovered\n",
    "        })\n",
    "    \n",
    "    # The cruise ship Diamond Princess has no country code, marked as 'XXX'\n",
    "    try:\n",
    "        country_code_3 = pc.countries.get(alpha_2=df.iloc[0].country_code).alpha_3\n",
    "    except:\n",
    "        country_code_3 = 'XXX'\n",
    "        \n",
    "    countries.append({\n",
    "        'country':\n",
    "        cntry,\n",
    "        'country_code':\n",
    "        country_code_3,\n",
    "        'latest': {\n",
    "            'confirmed': sum_confirmed,\n",
    "            'deaths': sum_deaths,\n",
    "            'recovered': sum_recovered\n",
    "        },\n",
    "        'timeline':\n",
    "        timeline\n",
    "    })"
   ]
  },
  {
   "cell_type": "code",
   "execution_count": 17,
   "metadata": {},
   "outputs": [],
   "source": [
    "countries_result = pd.DataFrame(countries)"
   ]
  },
  {
   "cell_type": "code",
   "execution_count": 18,
   "metadata": {},
   "outputs": [],
   "source": [
    "countries_result.to_json(\"world_timeline.json\", orient='records')"
   ]
  },
  {
   "cell_type": "markdown",
   "metadata": {},
   "source": [
    "## We are the world"
   ]
  },
  {
   "cell_type": "code",
   "execution_count": 19,
   "metadata": {},
   "outputs": [
    {
     "data": {
      "text/html": [
       "<div>\n",
       "<style scoped>\n",
       "    .dataframe tbody tr th:only-of-type {\n",
       "        vertical-align: middle;\n",
       "    }\n",
       "\n",
       "    .dataframe tbody tr th {\n",
       "        vertical-align: top;\n",
       "    }\n",
       "\n",
       "    .dataframe thead th {\n",
       "        text-align: right;\n",
       "    }\n",
       "</style>\n",
       "<table border=\"1\" class=\"dataframe\">\n",
       "  <thead>\n",
       "    <tr style=\"text-align: right;\">\n",
       "      <th></th>\n",
       "      <th>country</th>\n",
       "      <th>country_code</th>\n",
       "      <th>latest</th>\n",
       "      <th>timeline</th>\n",
       "    </tr>\n",
       "  </thead>\n",
       "  <tbody>\n",
       "    <tr>\n",
       "      <th>0</th>\n",
       "      <td>Afghanistan</td>\n",
       "      <td>AFG</td>\n",
       "      <td>{'confirmed': 12456, 'deaths': 227, 'recovered...</td>\n",
       "      <td>[{'date': '2020-01-22', 'confirmed': 0, 'death...</td>\n",
       "    </tr>\n",
       "    <tr>\n",
       "      <th>1</th>\n",
       "      <td>Albania</td>\n",
       "      <td>ALB</td>\n",
       "      <td>{'confirmed': 1050, 'deaths': 33, 'recovered':...</td>\n",
       "      <td>[{'date': '2020-01-22', 'confirmed': 0, 'death...</td>\n",
       "    </tr>\n",
       "    <tr>\n",
       "      <th>2</th>\n",
       "      <td>Algeria</td>\n",
       "      <td>DZA</td>\n",
       "      <td>{'confirmed': 8857, 'deaths': 623, 'recovered'...</td>\n",
       "      <td>[{'date': '2020-01-22', 'confirmed': 0, 'death...</td>\n",
       "    </tr>\n",
       "    <tr>\n",
       "      <th>3</th>\n",
       "      <td>Andorra</td>\n",
       "      <td>AND</td>\n",
       "      <td>{'confirmed': 763, 'deaths': 51, 'recovered': ...</td>\n",
       "      <td>[{'date': '2020-01-22', 'confirmed': 0, 'death...</td>\n",
       "    </tr>\n",
       "    <tr>\n",
       "      <th>4</th>\n",
       "      <td>Angola</td>\n",
       "      <td>AGO</td>\n",
       "      <td>{'confirmed': 71, 'deaths': 4, 'recovered': 18}</td>\n",
       "      <td>[{'date': '2020-01-22', 'confirmed': 0, 'death...</td>\n",
       "    </tr>\n",
       "  </tbody>\n",
       "</table>\n",
       "</div>"
      ],
      "text/plain": [
       "       country country_code  \\\n",
       "0  Afghanistan          AFG   \n",
       "1      Albania          ALB   \n",
       "2      Algeria          DZA   \n",
       "3      Andorra          AND   \n",
       "4       Angola          AGO   \n",
       "\n",
       "                                              latest  \\\n",
       "0  {'confirmed': 12456, 'deaths': 227, 'recovered...   \n",
       "1  {'confirmed': 1050, 'deaths': 33, 'recovered':...   \n",
       "2  {'confirmed': 8857, 'deaths': 623, 'recovered'...   \n",
       "3  {'confirmed': 763, 'deaths': 51, 'recovered': ...   \n",
       "4    {'confirmed': 71, 'deaths': 4, 'recovered': 18}   \n",
       "\n",
       "                                            timeline  \n",
       "0  [{'date': '2020-01-22', 'confirmed': 0, 'death...  \n",
       "1  [{'date': '2020-01-22', 'confirmed': 0, 'death...  \n",
       "2  [{'date': '2020-01-22', 'confirmed': 0, 'death...  \n",
       "3  [{'date': '2020-01-22', 'confirmed': 0, 'death...  \n",
       "4  [{'date': '2020-01-22', 'confirmed': 0, 'death...  "
      ]
     },
     "execution_count": 19,
     "metadata": {},
     "output_type": "execute_result"
    }
   ],
   "source": [
    "countries_result.head()"
   ]
  },
  {
   "cell_type": "code",
   "execution_count": 20,
   "metadata": {},
   "outputs": [
    {
     "name": "stdout",
     "output_type": "stream",
     "text": [
      "{'confirmed': 5691790, 'deaths': 355629, 'recovered': 2350088}\n"
     ]
    }
   ],
   "source": [
    "global_confirmed, global_deaths, global_recovered = 0, 0, 0\n",
    "for entry in countries_result.latest:\n",
    "    global_confirmed += entry['confirmed']\n",
    "    global_deaths += entry['deaths']\n",
    "    global_recovered += entry['recovered']\n",
    "\n",
    "global_latest = {\n",
    "    'confirmed': global_confirmed,\n",
    "    'deaths': global_deaths,\n",
    "    'recovered': global_recovered\n",
    "}\n",
    "print(global_latest)"
   ]
  },
  {
   "cell_type": "code",
   "execution_count": 21,
   "metadata": {
    "scrolled": true
   },
   "outputs": [
    {
     "name": "stdout",
     "output_type": "stream",
     "text": [
      "Data in 127 days.\n",
      "[{'date': '2020-01-22', 'confirmed': 555, 'deaths': 17, 'recovered': 28}, {'date': '2020-01-23', 'confirmed': 654, 'deaths': 18, 'recovered': 30}, {'date': '2020-01-24', 'confirmed': 941, 'deaths': 26, 'recovered': 36}, {'date': '2020-01-25', 'confirmed': 1434, 'deaths': 42, 'recovered': 39}, {'date': '2020-01-26', 'confirmed': 2118, 'deaths': 56, 'recovered': 52}, {'date': '2020-01-27', 'confirmed': 2927, 'deaths': 82, 'recovered': 61}, {'date': '2020-01-28', 'confirmed': 5578, 'deaths': 131, 'recovered': 107}, {'date': '2020-01-29', 'confirmed': 6166, 'deaths': 133, 'recovered': 126}, {'date': '2020-01-30', 'confirmed': 8234, 'deaths': 171, 'recovered': 143}, {'date': '2020-01-31', 'confirmed': 9927, 'deaths': 213, 'recovered': 222}, {'date': '2020-02-01', 'confirmed': 12038, 'deaths': 259, 'recovered': 284}, {'date': '2020-02-02', 'confirmed': 16787, 'deaths': 362, 'recovered': 472}, {'date': '2020-02-03', 'confirmed': 19881, 'deaths': 426, 'recovered': 623}, {'date': '2020-02-04', 'confirmed': 23892, 'deaths': 492, 'recovered': 852}, {'date': '2020-02-05', 'confirmed': 27635, 'deaths': 564, 'recovered': 1124}, {'date': '2020-02-06', 'confirmed': 30794, 'deaths': 634, 'recovered': 1487}, {'date': '2020-02-07', 'confirmed': 34391, 'deaths': 719, 'recovered': 2011}, {'date': '2020-02-08', 'confirmed': 37120, 'deaths': 806, 'recovered': 2616}, {'date': '2020-02-09', 'confirmed': 40150, 'deaths': 906, 'recovered': 3244}, {'date': '2020-02-10', 'confirmed': 42762, 'deaths': 1013, 'recovered': 3946}, {'date': '2020-02-11', 'confirmed': 44802, 'deaths': 1113, 'recovered': 4683}, {'date': '2020-02-12', 'confirmed': 45221, 'deaths': 1118, 'recovered': 5150}, {'date': '2020-02-13', 'confirmed': 60368, 'deaths': 1371, 'recovered': 6295}, {'date': '2020-02-14', 'confirmed': 66885, 'deaths': 1523, 'recovered': 8058}, {'date': '2020-02-15', 'confirmed': 69030, 'deaths': 1666, 'recovered': 9395}, {'date': '2020-02-16', 'confirmed': 71224, 'deaths': 1770, 'recovered': 10865}, {'date': '2020-02-17', 'confirmed': 73258, 'deaths': 1868, 'recovered': 12583}, {'date': '2020-02-18', 'confirmed': 75136, 'deaths': 2007, 'recovered': 14352}, {'date': '2020-02-19', 'confirmed': 75639, 'deaths': 2122, 'recovered': 16121}, {'date': '2020-02-20', 'confirmed': 76197, 'deaths': 2247, 'recovered': 18177}, {'date': '2020-02-21', 'confirmed': 76819, 'deaths': 2251, 'recovered': 18890}, {'date': '2020-02-22', 'confirmed': 78572, 'deaths': 2458, 'recovered': 22886}, {'date': '2020-02-23', 'confirmed': 78958, 'deaths': 2469, 'recovered': 23394}, {'date': '2020-02-24', 'confirmed': 79561, 'deaths': 2629, 'recovered': 25227}, {'date': '2020-02-25', 'confirmed': 80406, 'deaths': 2708, 'recovered': 27905}, {'date': '2020-02-26', 'confirmed': 81388, 'deaths': 2770, 'recovered': 30384}, {'date': '2020-02-27', 'confirmed': 82746, 'deaths': 2814, 'recovered': 33277}, {'date': '2020-02-28', 'confirmed': 84112, 'deaths': 2872, 'recovered': 36711}, {'date': '2020-02-29', 'confirmed': 86011, 'deaths': 2941, 'recovered': 39782}, {'date': '2020-03-01', 'confirmed': 88369, 'deaths': 2996, 'recovered': 42716}, {'date': '2020-03-02', 'confirmed': 90306, 'deaths': 3085, 'recovered': 45602}, {'date': '2020-03-03', 'confirmed': 92840, 'deaths': 3160, 'recovered': 48228}, {'date': '2020-03-04', 'confirmed': 95120, 'deaths': 3254, 'recovered': 51170}, {'date': '2020-03-05', 'confirmed': 97888, 'deaths': 3347, 'recovered': 53796}, {'date': '2020-03-06', 'confirmed': 101806, 'deaths': 3459, 'recovered': 55865}, {'date': '2020-03-07', 'confirmed': 105848, 'deaths': 3558, 'recovered': 58358}, {'date': '2020-03-08', 'confirmed': 109822, 'deaths': 3801, 'recovered': 60694}, {'date': '2020-03-09', 'confirmed': 113595, 'deaths': 3987, 'recovered': 62494}, {'date': '2020-03-10', 'confirmed': 118623, 'deaths': 4263, 'recovered': 64404}, {'date': '2020-03-11', 'confirmed': 125879, 'deaths': 4614, 'recovered': 67003}, {'date': '2020-03-12', 'confirmed': 131007, 'deaths': 4912, 'recovered': 68324}, {'date': '2020-03-13', 'confirmed': 145225, 'deaths': 5409, 'recovered': 70251}, {'date': '2020-03-14', 'confirmed': 156120, 'deaths': 5832, 'recovered': 72622}, {'date': '2020-03-15', 'confirmed': 167507, 'deaths': 6473, 'recovered': 76032}, {'date': '2020-03-16', 'confirmed': 181653, 'deaths': 7151, 'recovered': 78086}, {'date': '2020-03-17', 'confirmed': 197150, 'deaths': 7957, 'recovered': 80838}, {'date': '2020-03-18', 'confirmed': 214873, 'deaths': 8824, 'recovered': 83310}, {'date': '2020-03-19', 'confirmed': 242632, 'deaths': 9947, 'recovered': 84973}, {'date': '2020-03-20', 'confirmed': 272264, 'deaths': 11423, 'recovered': 87418}, {'date': '2020-03-21', 'confirmed': 304580, 'deaths': 13125, 'recovered': 91690}, {'date': '2020-03-22', 'confirmed': 337022, 'deaths': 14826, 'recovered': 97897}, {'date': '2020-03-23', 'confirmed': 378301, 'deaths': 16759, 'recovered': 98349}, {'date': '2020-03-24', 'confirmed': 418295, 'deaths': 19017, 'recovered': 107998}, {'date': '2020-03-25', 'confirmed': 467817, 'deaths': 21789, 'recovered': 113784}, {'date': '2020-03-26', 'confirmed': 529722, 'deaths': 24788, 'recovered': 122147}, {'date': '2020-03-27', 'confirmed': 593764, 'deaths': 28292, 'recovered': 130912}, {'date': '2020-03-28', 'confirmed': 661174, 'deaths': 31811, 'recovered': 139412}, {'date': '2020-03-29', 'confirmed': 720291, 'deaths': 35323, 'recovered': 148832}, {'date': '2020-03-30', 'confirmed': 782816, 'deaths': 39443, 'recovered': 164316}, {'date': '2020-03-31', 'confirmed': 857608, 'deaths': 44238, 'recovered': 177784}, {'date': '2020-04-01', 'confirmed': 933010, 'deaths': 49685, 'recovered': 192948}, {'date': '2020-04-02', 'confirmed': 1013863, 'deaths': 55834, 'recovered': 210019}, {'date': '2020-04-03', 'confirmed': 1096324, 'deaths': 61826, 'recovered': 225564}, {'date': '2020-04-04', 'confirmed': 1176436, 'deaths': 67996, 'recovered': 245902}, {'date': '2020-04-05', 'confirmed': 1249743, 'deaths': 73077, 'recovered': 259773}, {'date': '2020-04-06', 'confirmed': 1321436, 'deaths': 78767, 'recovered': 276284}, {'date': '2020-04-07', 'confirmed': 1396438, 'deaths': 86662, 'recovered': 299804}, {'date': '2020-04-08', 'confirmed': 1480232, 'deaths': 93354, 'recovered': 328453}, {'date': '2020-04-09', 'confirmed': 1566102, 'deaths': 100915, 'recovered': 353739}, {'date': '2020-04-10', 'confirmed': 1658261, 'deaths': 108137, 'recovered': 375854}, {'date': '2020-04-11', 'confirmed': 1736412, 'deaths': 114170, 'recovered': 401870}, {'date': '2020-04-12', 'confirmed': 1835145, 'deaths': 119853, 'recovered': 421472}, {'date': '2020-04-13', 'confirmed': 1905165, 'deaths': 125561, 'recovered': 448422}, {'date': '2020-04-14', 'confirmed': 1975566, 'deaths': 132439, 'recovered': 473730}, {'date': '2020-04-15', 'confirmed': 2055748, 'deaths': 140685, 'recovered': 510266}, {'date': '2020-04-16', 'confirmed': 2152181, 'deaths': 147963, 'recovered': 541342}, {'date': '2020-04-17', 'confirmed': 2239990, 'deaths': 156821, 'recovered': 567515}, {'date': '2020-04-18', 'confirmed': 2317636, 'deaths': 163236, 'recovered': 591469}, {'date': '2020-04-19', 'confirmed': 2400787, 'deaths': 167772, 'recovered': 623057}, {'date': '2020-04-20', 'confirmed': 2472109, 'deaths': 173124, 'recovered': 645058}, {'date': '2020-04-21', 'confirmed': 2549046, 'deaths': 180236, 'recovered': 679905}, {'date': '2020-04-22', 'confirmed': 2624608, 'deaths': 186912, 'recovered': 710046}, {'date': '2020-04-23', 'confirmed': 2708403, 'deaths': 193665, 'recovered': 738980}, {'date': '2020-04-24', 'confirmed': 2795731, 'deaths': 199997, 'recovered': 789585}, {'date': '2020-04-25', 'confirmed': 2881140, 'deaths': 206187, 'recovered': 817405}, {'date': '2020-04-26', 'confirmed': 2955033, 'deaths': 209900, 'recovered': 845985}, {'date': '2020-04-27', 'confirmed': 3023722, 'deaths': 214444, 'recovered': 873677}, {'date': '2020-04-28', 'confirmed': 3097229, 'deaths': 220801, 'recovered': 906955}, {'date': '2020-04-29', 'confirmed': 3172287, 'deaths': 227665, 'recovered': 948425}, {'date': '2020-04-30', 'confirmed': 3256910, 'deaths': 233360, 'recovered': 1013886}, {'date': '2020-05-01', 'confirmed': 3345558, 'deaths': 238619, 'recovered': 1052415}, {'date': '2020-05-02', 'confirmed': 3427584, 'deaths': 243813, 'recovered': 1093137}, {'date': '2020-05-03', 'confirmed': 3506729, 'deaths': 247470, 'recovered': 1125236}, {'date': '2020-05-04', 'confirmed': 3583055, 'deaths': 251537, 'recovered': 1162724}, {'date': '2020-05-05', 'confirmed': 3662691, 'deaths': 257239, 'recovered': 1198832}, {'date': '2020-05-06', 'confirmed': 3756069, 'deaths': 263855, 'recovered': 1245413}, {'date': '2020-05-07', 'confirmed': 3845718, 'deaths': 269567, 'recovered': 1284741}, {'date': '2020-05-08', 'confirmed': 3938064, 'deaths': 274898, 'recovered': 1322050}, {'date': '2020-05-09', 'confirmed': 4024009, 'deaths': 279311, 'recovered': 1375624}, {'date': '2020-05-10', 'confirmed': 4101699, 'deaths': 282709, 'recovered': 1408980}, {'date': '2020-05-11', 'confirmed': 4177502, 'deaths': 286330, 'recovered': 1456209}, {'date': '2020-05-12', 'confirmed': 4261747, 'deaths': 291942, 'recovered': 1493414}, {'date': '2020-05-13', 'confirmed': 4347018, 'deaths': 297197, 'recovered': 1548547}, {'date': '2020-05-14', 'confirmed': 4442163, 'deaths': 302418, 'recovered': 1587893}, {'date': '2020-05-15', 'confirmed': 4542347, 'deaths': 307666, 'recovered': 1637067}, {'date': '2020-05-16', 'confirmed': 4634068, 'deaths': 311781, 'recovered': 1693197}, {'date': '2020-05-17', 'confirmed': 4713620, 'deaths': 315185, 'recovered': 1733963}, {'date': '2020-05-18', 'confirmed': 4801943, 'deaths': 318481, 'recovered': 1786875}, {'date': '2020-05-19', 'confirmed': 4897492, 'deaths': 323285, 'recovered': 1838995}, {'date': '2020-05-20', 'confirmed': 4996472, 'deaths': 328115, 'recovered': 1897466}, {'date': '2020-05-21', 'confirmed': 5102424, 'deaths': 332924, 'recovered': 1948739}, {'date': '2020-05-22', 'confirmed': 5211156, 'deaths': 338234, 'recovered': 2056984}, {'date': '2020-05-23', 'confirmed': 5311020, 'deaths': 342214, 'recovered': 2112862}, {'date': '2020-05-24', 'confirmed': 5407613, 'deaths': 345059, 'recovered': 2168563}, {'date': '2020-05-25', 'confirmed': 5495061, 'deaths': 346232, 'recovered': 2231738}, {'date': '2020-05-26', 'confirmed': 5589626, 'deaths': 350453, 'recovered': 2286956}, {'date': '2020-05-27', 'confirmed': 5691790, 'deaths': 355629, 'recovered': 2350088}]\n"
     ]
    }
   ],
   "source": [
    "global_timeline = countries_result.iloc[0].timeline\n",
    "print(\"Data in {} days.\".format(len(global_timeline)))\n",
    "for i in range(len(global_timeline)):\n",
    "    global_daily_confirmed = 0\n",
    "    global_daily_deaths = 0\n",
    "    global_daily_recovered = 0\n",
    "    for tl in countries_result.timeline:\n",
    "        global_daily_confirmed += tl[i]['confirmed']\n",
    "        global_daily_deaths += tl[i]['deaths']\n",
    "        global_daily_recovered += tl[i]['recovered']\n",
    "    global_timeline[i]['confirmed'] = global_daily_confirmed\n",
    "    global_timeline[i]['deaths'] = global_daily_deaths\n",
    "    global_timeline[i]['recovered'] = global_daily_recovered\n",
    "print(global_timeline)"
   ]
  },
  {
   "cell_type": "code",
   "execution_count": 22,
   "metadata": {},
   "outputs": [],
   "source": [
    "global_data = {\n",
    "    'country': 'global',\n",
    "    'latest': global_latest,\n",
    "    'timeline': global_timeline\n",
    "}\n",
    "with open('global_timeline.json', 'w') as f:\n",
    "    json.dump(global_data, f)"
   ]
  },
  {
   "cell_type": "code",
   "execution_count": null,
   "metadata": {},
   "outputs": [],
   "source": []
  }
 ],
 "metadata": {
  "kernelspec": {
   "display_name": "Python 3",
   "language": "python",
   "name": "python3"
  },
  "language_info": {
   "codemirror_mode": {
    "name": "ipython",
    "version": 3
   },
   "file_extension": ".py",
   "mimetype": "text/x-python",
   "name": "python",
   "nbconvert_exporter": "python",
   "pygments_lexer": "ipython3",
   "version": "3.7.4"
  },
  "toc": {
   "base_numbering": 1,
   "nav_menu": {},
   "number_sections": true,
   "sideBar": true,
   "skip_h1_title": false,
   "title_cell": "Table of Contents",
   "title_sidebar": "Contents",
   "toc_cell": false,
   "toc_position": {},
   "toc_section_display": true,
   "toc_window_display": false
  }
 },
 "nbformat": 4,
 "nbformat_minor": 4
}
