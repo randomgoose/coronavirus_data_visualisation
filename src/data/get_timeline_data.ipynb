{
 "cells": [
  {
   "cell_type": "code",
   "execution_count": 3,
   "metadata": {},
   "outputs": [],
   "source": [
    "import pandas as pd\n",
    "import time\n",
    "import json\n",
    "import pycountry as pc\n",
    "import requests"
   ]
  },
  {
   "cell_type": "markdown",
   "metadata": {},
   "source": [
    "## 下载文件"
   ]
  },
  {
   "cell_type": "code",
   "execution_count": 7,
   "metadata": {},
   "outputs": [],
   "source": [
    "r = requests.get(\"https://coronavirus-tracker-api.herokuapp.com/all\") \n",
    "with open(\"raw/all.json\", \"wb\") as f:\n",
    "    f.write(r.content)"
   ]
  },
  {
   "cell_type": "markdown",
   "metadata": {},
   "source": [
    "## 读取文件"
   ]
  },
  {
   "cell_type": "code",
   "execution_count": 6,
   "metadata": {},
   "outputs": [
    {
     "ename": "JSONDecodeError",
     "evalue": "Expecting value: line 1 column 1 (char 0)",
     "output_type": "error",
     "traceback": [
      "\u001b[0;31m---------------------------------------------------------------------------\u001b[0m",
      "\u001b[0;31mJSONDecodeError\u001b[0m                           Traceback (most recent call last)",
      "\u001b[0;32m<ipython-input-6-5664a50f0bca>\u001b[0m in \u001b[0;36m<module>\u001b[0;34m\u001b[0m\n\u001b[1;32m      1\u001b[0m \u001b[0;32mwith\u001b[0m \u001b[0mopen\u001b[0m\u001b[0;34m(\u001b[0m\u001b[0;34m'raw/all.json'\u001b[0m\u001b[0;34m,\u001b[0m\u001b[0;34m'r'\u001b[0m\u001b[0;34m,\u001b[0m\u001b[0mencoding\u001b[0m\u001b[0;34m=\u001b[0m\u001b[0;34m'utf8'\u001b[0m\u001b[0;34m)\u001b[0m\u001b[0;32mas\u001b[0m \u001b[0mfp\u001b[0m\u001b[0;34m:\u001b[0m\u001b[0;34m\u001b[0m\u001b[0;34m\u001b[0m\u001b[0m\n\u001b[0;32m----> 2\u001b[0;31m     \u001b[0mjson_data\u001b[0m \u001b[0;34m=\u001b[0m \u001b[0mjson\u001b[0m\u001b[0;34m.\u001b[0m\u001b[0mload\u001b[0m\u001b[0;34m(\u001b[0m\u001b[0mfp\u001b[0m\u001b[0;34m)\u001b[0m\u001b[0;34m\u001b[0m\u001b[0;34m\u001b[0m\u001b[0m\n\u001b[0m\u001b[1;32m      3\u001b[0m     \u001b[0mprint\u001b[0m\u001b[0;34m(\u001b[0m\u001b[0mjson_data\u001b[0m\u001b[0;34m.\u001b[0m\u001b[0mkeys\u001b[0m\u001b[0;34m(\u001b[0m\u001b[0;34m)\u001b[0m\u001b[0;34m)\u001b[0m\u001b[0;34m\u001b[0m\u001b[0;34m\u001b[0m\u001b[0m\n\u001b[1;32m      4\u001b[0m     \u001b[0mprint\u001b[0m\u001b[0;34m(\u001b[0m\u001b[0mtype\u001b[0m\u001b[0;34m(\u001b[0m\u001b[0mjson_data\u001b[0m\u001b[0;34m)\u001b[0m\u001b[0;34m)\u001b[0m\u001b[0;34m\u001b[0m\u001b[0;34m\u001b[0m\u001b[0m\n",
      "\u001b[0;32m/Library/Frameworks/Python.framework/Versions/3.7/lib/python3.7/json/__init__.py\u001b[0m in \u001b[0;36mload\u001b[0;34m(fp, cls, object_hook, parse_float, parse_int, parse_constant, object_pairs_hook, **kw)\u001b[0m\n\u001b[1;32m    294\u001b[0m         \u001b[0mcls\u001b[0m\u001b[0;34m=\u001b[0m\u001b[0mcls\u001b[0m\u001b[0;34m,\u001b[0m \u001b[0mobject_hook\u001b[0m\u001b[0;34m=\u001b[0m\u001b[0mobject_hook\u001b[0m\u001b[0;34m,\u001b[0m\u001b[0;34m\u001b[0m\u001b[0;34m\u001b[0m\u001b[0m\n\u001b[1;32m    295\u001b[0m         \u001b[0mparse_float\u001b[0m\u001b[0;34m=\u001b[0m\u001b[0mparse_float\u001b[0m\u001b[0;34m,\u001b[0m \u001b[0mparse_int\u001b[0m\u001b[0;34m=\u001b[0m\u001b[0mparse_int\u001b[0m\u001b[0;34m,\u001b[0m\u001b[0;34m\u001b[0m\u001b[0;34m\u001b[0m\u001b[0m\n\u001b[0;32m--> 296\u001b[0;31m         parse_constant=parse_constant, object_pairs_hook=object_pairs_hook, **kw)\n\u001b[0m\u001b[1;32m    297\u001b[0m \u001b[0;34m\u001b[0m\u001b[0m\n\u001b[1;32m    298\u001b[0m \u001b[0;34m\u001b[0m\u001b[0m\n",
      "\u001b[0;32m/Library/Frameworks/Python.framework/Versions/3.7/lib/python3.7/json/__init__.py\u001b[0m in \u001b[0;36mloads\u001b[0;34m(s, encoding, cls, object_hook, parse_float, parse_int, parse_constant, object_pairs_hook, **kw)\u001b[0m\n\u001b[1;32m    346\u001b[0m             \u001b[0mparse_int\u001b[0m \u001b[0;32mis\u001b[0m \u001b[0;32mNone\u001b[0m \u001b[0;32mand\u001b[0m \u001b[0mparse_float\u001b[0m \u001b[0;32mis\u001b[0m \u001b[0;32mNone\u001b[0m \u001b[0;32mand\u001b[0m\u001b[0;34m\u001b[0m\u001b[0;34m\u001b[0m\u001b[0m\n\u001b[1;32m    347\u001b[0m             parse_constant is None and object_pairs_hook is None and not kw):\n\u001b[0;32m--> 348\u001b[0;31m         \u001b[0;32mreturn\u001b[0m \u001b[0m_default_decoder\u001b[0m\u001b[0;34m.\u001b[0m\u001b[0mdecode\u001b[0m\u001b[0;34m(\u001b[0m\u001b[0ms\u001b[0m\u001b[0;34m)\u001b[0m\u001b[0;34m\u001b[0m\u001b[0;34m\u001b[0m\u001b[0m\n\u001b[0m\u001b[1;32m    349\u001b[0m     \u001b[0;32mif\u001b[0m \u001b[0mcls\u001b[0m \u001b[0;32mis\u001b[0m \u001b[0;32mNone\u001b[0m\u001b[0;34m:\u001b[0m\u001b[0;34m\u001b[0m\u001b[0;34m\u001b[0m\u001b[0m\n\u001b[1;32m    350\u001b[0m         \u001b[0mcls\u001b[0m \u001b[0;34m=\u001b[0m \u001b[0mJSONDecoder\u001b[0m\u001b[0;34m\u001b[0m\u001b[0;34m\u001b[0m\u001b[0m\n",
      "\u001b[0;32m/Library/Frameworks/Python.framework/Versions/3.7/lib/python3.7/json/decoder.py\u001b[0m in \u001b[0;36mdecode\u001b[0;34m(self, s, _w)\u001b[0m\n\u001b[1;32m    335\u001b[0m \u001b[0;34m\u001b[0m\u001b[0m\n\u001b[1;32m    336\u001b[0m         \"\"\"\n\u001b[0;32m--> 337\u001b[0;31m         \u001b[0mobj\u001b[0m\u001b[0;34m,\u001b[0m \u001b[0mend\u001b[0m \u001b[0;34m=\u001b[0m \u001b[0mself\u001b[0m\u001b[0;34m.\u001b[0m\u001b[0mraw_decode\u001b[0m\u001b[0;34m(\u001b[0m\u001b[0ms\u001b[0m\u001b[0;34m,\u001b[0m \u001b[0midx\u001b[0m\u001b[0;34m=\u001b[0m\u001b[0m_w\u001b[0m\u001b[0;34m(\u001b[0m\u001b[0ms\u001b[0m\u001b[0;34m,\u001b[0m \u001b[0;36m0\u001b[0m\u001b[0;34m)\u001b[0m\u001b[0;34m.\u001b[0m\u001b[0mend\u001b[0m\u001b[0;34m(\u001b[0m\u001b[0;34m)\u001b[0m\u001b[0;34m)\u001b[0m\u001b[0;34m\u001b[0m\u001b[0;34m\u001b[0m\u001b[0m\n\u001b[0m\u001b[1;32m    338\u001b[0m         \u001b[0mend\u001b[0m \u001b[0;34m=\u001b[0m \u001b[0m_w\u001b[0m\u001b[0;34m(\u001b[0m\u001b[0ms\u001b[0m\u001b[0;34m,\u001b[0m \u001b[0mend\u001b[0m\u001b[0;34m)\u001b[0m\u001b[0;34m.\u001b[0m\u001b[0mend\u001b[0m\u001b[0;34m(\u001b[0m\u001b[0;34m)\u001b[0m\u001b[0;34m\u001b[0m\u001b[0;34m\u001b[0m\u001b[0m\n\u001b[1;32m    339\u001b[0m         \u001b[0;32mif\u001b[0m \u001b[0mend\u001b[0m \u001b[0;34m!=\u001b[0m \u001b[0mlen\u001b[0m\u001b[0;34m(\u001b[0m\u001b[0ms\u001b[0m\u001b[0;34m)\u001b[0m\u001b[0;34m:\u001b[0m\u001b[0;34m\u001b[0m\u001b[0;34m\u001b[0m\u001b[0m\n",
      "\u001b[0;32m/Library/Frameworks/Python.framework/Versions/3.7/lib/python3.7/json/decoder.py\u001b[0m in \u001b[0;36mraw_decode\u001b[0;34m(self, s, idx)\u001b[0m\n\u001b[1;32m    353\u001b[0m             \u001b[0mobj\u001b[0m\u001b[0;34m,\u001b[0m \u001b[0mend\u001b[0m \u001b[0;34m=\u001b[0m \u001b[0mself\u001b[0m\u001b[0;34m.\u001b[0m\u001b[0mscan_once\u001b[0m\u001b[0;34m(\u001b[0m\u001b[0ms\u001b[0m\u001b[0;34m,\u001b[0m \u001b[0midx\u001b[0m\u001b[0;34m)\u001b[0m\u001b[0;34m\u001b[0m\u001b[0;34m\u001b[0m\u001b[0m\n\u001b[1;32m    354\u001b[0m         \u001b[0;32mexcept\u001b[0m \u001b[0mStopIteration\u001b[0m \u001b[0;32mas\u001b[0m \u001b[0merr\u001b[0m\u001b[0;34m:\u001b[0m\u001b[0;34m\u001b[0m\u001b[0;34m\u001b[0m\u001b[0m\n\u001b[0;32m--> 355\u001b[0;31m             \u001b[0;32mraise\u001b[0m \u001b[0mJSONDecodeError\u001b[0m\u001b[0;34m(\u001b[0m\u001b[0;34m\"Expecting value\"\u001b[0m\u001b[0;34m,\u001b[0m \u001b[0ms\u001b[0m\u001b[0;34m,\u001b[0m \u001b[0merr\u001b[0m\u001b[0;34m.\u001b[0m\u001b[0mvalue\u001b[0m\u001b[0;34m)\u001b[0m \u001b[0;32mfrom\u001b[0m \u001b[0;32mNone\u001b[0m\u001b[0;34m\u001b[0m\u001b[0;34m\u001b[0m\u001b[0m\n\u001b[0m\u001b[1;32m    356\u001b[0m         \u001b[0;32mreturn\u001b[0m \u001b[0mobj\u001b[0m\u001b[0;34m,\u001b[0m \u001b[0mend\u001b[0m\u001b[0;34m\u001b[0m\u001b[0;34m\u001b[0m\u001b[0m\n",
      "\u001b[0;31mJSONDecodeError\u001b[0m: Expecting value: line 1 column 1 (char 0)"
     ]
    }
   ],
   "source": [
    "with open('raw/all.json','r',encoding='utf8')as fp:\n",
    "    json_data = json.load(fp)\n",
    "    print(json_data.keys())\n",
    "    print(type(json_data))"
   ]
  },
  {
   "cell_type": "code",
   "execution_count": 4,
   "metadata": {},
   "outputs": [
    {
     "data": {
      "text/plain": [
       "dict_keys(['locations', 'latest', 'last_updated', 'source'])"
      ]
     },
     "execution_count": 4,
     "metadata": {},
     "output_type": "execute_result"
    }
   ],
   "source": [
    "json_data['confirmed'].keys()"
   ]
  },
  {
   "cell_type": "code",
   "execution_count": 5,
   "metadata": {
    "scrolled": true
   },
   "outputs": [],
   "source": [
    "confirmed = json_data['confirmed']['locations']\n",
    "deaths = json_data['deaths']['locations']\n",
    "recovered = json_data['recovered']['locations']"
   ]
  },
  {
   "cell_type": "code",
   "execution_count": 6,
   "metadata": {},
   "outputs": [
    {
     "name": "stdout",
     "output_type": "stream",
     "text": [
      "266 266 252\n"
     ]
    }
   ],
   "source": [
    "print(len(confirmed), len(deaths), len(recovered))"
   ]
  },
  {
   "cell_type": "markdown",
   "metadata": {},
   "source": [
    "## 中国各省"
   ]
  },
  {
   "cell_type": "code",
   "execution_count": 7,
   "metadata": {},
   "outputs": [
    {
     "name": "stdout",
     "output_type": "stream",
     "text": [
      "[49, 50, 51, 52, 53, 54, 55, 56, 57, 58, 59, 60, 61, 62, 63, 64, 65, 66, 67, 68, 69, 70, 71, 72, 73, 74, 75, 76, 77, 78, 79, 80, 81]\n"
     ]
    }
   ],
   "source": [
    "china_indexes = []\n",
    "for (index, item) in enumerate(json_data['confirmed']['locations']):\n",
    "    if item['country'] == 'China':\n",
    "        china_indexes.append(index)\n",
    "print(china_indexes)"
   ]
  },
  {
   "cell_type": "code",
   "execution_count": 8,
   "metadata": {},
   "outputs": [],
   "source": [
    "provinces = []\n",
    "for i in china_indexes:\n",
    "    p_dict = {}\n",
    "    p_dict['country'] = confirmed[i]['country']\n",
    "    p_dict['country_code'] = pc.countries.get(\n",
    "        alpha_2=confirmed[i]['country_code']).alpha_3\n",
    "    p_dict['province'] = confirmed[i]['province']\n",
    "    p_dict['coordinates'] = confirmed[i]['coordinates']\n",
    "    p_dict['latest'] = {\n",
    "        'confirmed': confirmed[i]['latest'],\n",
    "        'deaths': deaths[i]['latest'],\n",
    "        'recovered': recovered[i]['latest']\n",
    "    }\n",
    "\n",
    "    timeline = []\n",
    "    for date in confirmed[i]['history'].keys():\n",
    "        date_ = time.strftime(\"%Y-%m-%d\", time.strptime(date, \"%m/%d/%y\"))\n",
    "        #     print({'date': date_, 'confirmed': cnt})\n",
    "        timeline.append({\n",
    "            'date': date_,\n",
    "            'confirmed': confirmed[i]['history'][date],\n",
    "            'deaths': deaths[i]['history'][date],\n",
    "            'recovered': recovered[i]['history'][date]\n",
    "        })\n",
    "    p_dict['timeline'] = timeline\n",
    "\n",
    "    provinces.append(p_dict)"
   ]
  },
  {
   "cell_type": "code",
   "execution_count": 9,
   "metadata": {
    "scrolled": true
   },
   "outputs": [],
   "source": [
    "china_result = pd.DataFrame(provinces)"
   ]
  },
  {
   "cell_type": "code",
   "execution_count": 10,
   "metadata": {},
   "outputs": [],
   "source": [
    "china_result.to_json(\"china_timeline.json\", orient='records')"
   ]
  },
  {
   "cell_type": "markdown",
   "metadata": {},
   "source": [
    "## 世界各国"
   ]
  },
  {
   "cell_type": "code",
   "execution_count": 11,
   "metadata": {
    "scrolled": true
   },
   "outputs": [],
   "source": [
    "DF_confirmed_groups = pd.DataFrame(confirmed).groupby('country')\n",
    "DF_deaths_groups = pd.DataFrame(deaths).groupby('country')\n",
    "DF_recovered_groups = pd.DataFrame(recovered).groupby('country')"
   ]
  },
  {
   "cell_type": "code",
   "execution_count": 12,
   "metadata": {},
   "outputs": [],
   "source": [
    "# pd.DataFrame(confirmed).country.drop_duplicates().tolist()"
   ]
  },
  {
   "cell_type": "code",
   "execution_count": 13,
   "metadata": {},
   "outputs": [
    {
     "name": "stdout",
     "output_type": "stream",
     "text": [
      "187 187 187\n"
     ]
    }
   ],
   "source": [
    "print(len(DF_confirmed_groups), len(DF_deaths_groups), len(DF_recovered_groups))"
   ]
  },
  {
   "cell_type": "code",
   "execution_count": 14,
   "metadata": {},
   "outputs": [],
   "source": [
    "cntry_names = list(DF_confirmed_groups.groups.keys())"
   ]
  },
  {
   "cell_type": "code",
   "execution_count": 15,
   "metadata": {
    "scrolled": true
   },
   "outputs": [],
   "source": [
    "# DF_confirmed_groups.get_group('China')"
   ]
  },
  {
   "cell_type": "code",
   "execution_count": 16,
   "metadata": {},
   "outputs": [],
   "source": [
    "countries = []\n",
    "for cntry in cntry_names:\n",
    "    df = DF_confirmed_groups.get_group(cntry)\n",
    "    df_deaths = DF_deaths_groups.get_group(cntry)\n",
    "    df_recovered = DF_recovered_groups.get_group(cntry)\n",
    "\n",
    "    dates = list(df.history.iloc[0].keys())\n",
    "    timeline = []\n",
    "\n",
    "    for d in dates:\n",
    "        date_ = time.strftime(\"%Y-%m-%d\", time.strptime(d, \"%m/%d/%y\"))\n",
    "\n",
    "        # confirmed each day\n",
    "        sum_confirmed = 0\n",
    "        for h in df.history:\n",
    "            sum_confirmed += h[d]\n",
    "\n",
    "        # deaths each day\n",
    "        sum_deaths = 0\n",
    "        for h in df_deaths.history:\n",
    "            sum_deaths += h[d]\n",
    "\n",
    "        # recovered each day\n",
    "        sum_recovered = 0\n",
    "        for h in df_recovered.history:\n",
    "            sum_recovered += h[d]\n",
    "\n",
    "        timeline.append({\n",
    "            'date': date_,\n",
    "            'confirmed': sum_confirmed,\n",
    "            'deaths': sum_deaths,\n",
    "            'recovered': sum_recovered\n",
    "        })\n",
    "    \n",
    "    # The cruise ship Diamond Princess has no country code, marked as 'XXX'\n",
    "    try:\n",
    "        country_code_3 = pc.countries.get(alpha_2=df.iloc[0].country_code).alpha_3\n",
    "    except:\n",
    "        country_code_3 = 'XXX'\n",
    "        \n",
    "    countries.append({\n",
    "        'country':\n",
    "        cntry,\n",
    "        'country_code':\n",
    "        country_code_3,\n",
    "        'latest': {\n",
    "            'confirmed': sum_confirmed,\n",
    "            'deaths': sum_deaths,\n",
    "            'recovered': sum_recovered\n",
    "        },\n",
    "        'timeline':\n",
    "        timeline\n",
    "    })"
   ]
  },
  {
   "cell_type": "code",
   "execution_count": 17,
   "metadata": {},
   "outputs": [],
   "source": [
    "countries_result = pd.DataFrame(countries)"
   ]
  },
  {
   "cell_type": "code",
   "execution_count": 18,
   "metadata": {},
   "outputs": [],
   "source": [
    "countries_result.to_json(\"world_timeline.json\", orient='records')"
   ]
  },
  {
   "cell_type": "markdown",
   "metadata": {},
   "source": [
    "## We are the world"
   ]
  },
  {
   "cell_type": "code",
   "execution_count": 19,
   "metadata": {},
   "outputs": [
    {
     "data": {
      "text/html": [
       "<div>\n",
       "<style scoped>\n",
       "    .dataframe tbody tr th:only-of-type {\n",
       "        vertical-align: middle;\n",
       "    }\n",
       "\n",
       "    .dataframe tbody tr th {\n",
       "        vertical-align: top;\n",
       "    }\n",
       "\n",
       "    .dataframe thead th {\n",
       "        text-align: right;\n",
       "    }\n",
       "</style>\n",
       "<table border=\"1\" class=\"dataframe\">\n",
       "  <thead>\n",
       "    <tr style=\"text-align: right;\">\n",
       "      <th></th>\n",
       "      <th>country</th>\n",
       "      <th>country_code</th>\n",
       "      <th>latest</th>\n",
       "      <th>timeline</th>\n",
       "    </tr>\n",
       "  </thead>\n",
       "  <tbody>\n",
       "    <tr>\n",
       "      <th>0</th>\n",
       "      <td>Afghanistan</td>\n",
       "      <td>AFG</td>\n",
       "      <td>{'confirmed': 2335, 'deaths': 68, 'recovered':...</td>\n",
       "      <td>[{'date': '2020-01-22', 'confirmed': 0, 'death...</td>\n",
       "    </tr>\n",
       "    <tr>\n",
       "      <th>1</th>\n",
       "      <td>Albania</td>\n",
       "      <td>ALB</td>\n",
       "      <td>{'confirmed': 782, 'deaths': 31, 'recovered': ...</td>\n",
       "      <td>[{'date': '2020-01-22', 'confirmed': 0, 'death...</td>\n",
       "    </tr>\n",
       "    <tr>\n",
       "      <th>2</th>\n",
       "      <td>Algeria</td>\n",
       "      <td>DZA</td>\n",
       "      <td>{'confirmed': 4154, 'deaths': 453, 'recovered'...</td>\n",
       "      <td>[{'date': '2020-01-22', 'confirmed': 0, 'death...</td>\n",
       "    </tr>\n",
       "    <tr>\n",
       "      <th>3</th>\n",
       "      <td>Andorra</td>\n",
       "      <td>AND</td>\n",
       "      <td>{'confirmed': 745, 'deaths': 43, 'recovered': ...</td>\n",
       "      <td>[{'date': '2020-01-22', 'confirmed': 0, 'death...</td>\n",
       "    </tr>\n",
       "    <tr>\n",
       "      <th>4</th>\n",
       "      <td>Angola</td>\n",
       "      <td>AGO</td>\n",
       "      <td>{'confirmed': 30, 'deaths': 2, 'recovered': 11}</td>\n",
       "      <td>[{'date': '2020-01-22', 'confirmed': 0, 'death...</td>\n",
       "    </tr>\n",
       "  </tbody>\n",
       "</table>\n",
       "</div>"
      ],
      "text/plain": [
       "       country country_code  \\\n",
       "0  Afghanistan          AFG   \n",
       "1      Albania          ALB   \n",
       "2      Algeria          DZA   \n",
       "3      Andorra          AND   \n",
       "4       Angola          AGO   \n",
       "\n",
       "                                              latest  \\\n",
       "0  {'confirmed': 2335, 'deaths': 68, 'recovered':...   \n",
       "1  {'confirmed': 782, 'deaths': 31, 'recovered': ...   \n",
       "2  {'confirmed': 4154, 'deaths': 453, 'recovered'...   \n",
       "3  {'confirmed': 745, 'deaths': 43, 'recovered': ...   \n",
       "4    {'confirmed': 30, 'deaths': 2, 'recovered': 11}   \n",
       "\n",
       "                                            timeline  \n",
       "0  [{'date': '2020-01-22', 'confirmed': 0, 'death...  \n",
       "1  [{'date': '2020-01-22', 'confirmed': 0, 'death...  \n",
       "2  [{'date': '2020-01-22', 'confirmed': 0, 'death...  \n",
       "3  [{'date': '2020-01-22', 'confirmed': 0, 'death...  \n",
       "4  [{'date': '2020-01-22', 'confirmed': 0, 'death...  "
      ]
     },
     "execution_count": 19,
     "metadata": {},
     "output_type": "execute_result"
    }
   ],
   "source": [
    "countries_result.head()"
   ]
  },
  {
   "cell_type": "code",
   "execution_count": 20,
   "metadata": {},
   "outputs": [
    {
     "name": "stdout",
     "output_type": "stream",
     "text": [
      "{'confirmed': 3343777, 'deaths': 238650, 'recovered': 1053327}\n"
     ]
    }
   ],
   "source": [
    "global_confirmed, global_deaths, global_recovered = 0, 0, 0\n",
    "for entry in countries_result.latest:\n",
    "    global_confirmed += entry['confirmed']\n",
    "    global_deaths += entry['deaths']\n",
    "    global_recovered += entry['recovered']\n",
    "\n",
    "global_latest = {\n",
    "    'confirmed': global_confirmed,\n",
    "    'deaths': global_deaths,\n",
    "    'recovered': global_recovered\n",
    "}\n",
    "print(global_latest)"
   ]
  },
  {
   "cell_type": "code",
   "execution_count": 21,
   "metadata": {
    "scrolled": true
   },
   "outputs": [
    {
     "name": "stdout",
     "output_type": "stream",
     "text": [
      "Data in 101 days.\n",
      "[{'date': '2020-01-22', 'confirmed': 555, 'deaths': 17, 'recovered': 28}, {'date': '2020-01-23', 'confirmed': 654, 'deaths': 18, 'recovered': 30}, {'date': '2020-01-24', 'confirmed': 941, 'deaths': 26, 'recovered': 36}, {'date': '2020-01-25', 'confirmed': 1434, 'deaths': 42, 'recovered': 39}, {'date': '2020-01-26', 'confirmed': 2118, 'deaths': 56, 'recovered': 52}, {'date': '2020-01-27', 'confirmed': 2927, 'deaths': 82, 'recovered': 61}, {'date': '2020-01-28', 'confirmed': 5578, 'deaths': 131, 'recovered': 107}, {'date': '2020-01-29', 'confirmed': 6166, 'deaths': 133, 'recovered': 126}, {'date': '2020-01-30', 'confirmed': 8234, 'deaths': 171, 'recovered': 143}, {'date': '2020-01-31', 'confirmed': 9927, 'deaths': 213, 'recovered': 222}, {'date': '2020-02-01', 'confirmed': 12038, 'deaths': 259, 'recovered': 284}, {'date': '2020-02-02', 'confirmed': 16787, 'deaths': 362, 'recovered': 472}, {'date': '2020-02-03', 'confirmed': 19881, 'deaths': 426, 'recovered': 623}, {'date': '2020-02-04', 'confirmed': 23892, 'deaths': 492, 'recovered': 852}, {'date': '2020-02-05', 'confirmed': 27635, 'deaths': 564, 'recovered': 1124}, {'date': '2020-02-06', 'confirmed': 30794, 'deaths': 634, 'recovered': 1487}, {'date': '2020-02-07', 'confirmed': 34391, 'deaths': 719, 'recovered': 2011}, {'date': '2020-02-08', 'confirmed': 37120, 'deaths': 806, 'recovered': 2616}, {'date': '2020-02-09', 'confirmed': 40150, 'deaths': 906, 'recovered': 3244}, {'date': '2020-02-10', 'confirmed': 42762, 'deaths': 1013, 'recovered': 3946}, {'date': '2020-02-11', 'confirmed': 44802, 'deaths': 1113, 'recovered': 4683}, {'date': '2020-02-12', 'confirmed': 45221, 'deaths': 1118, 'recovered': 5150}, {'date': '2020-02-13', 'confirmed': 60368, 'deaths': 1371, 'recovered': 6295}, {'date': '2020-02-14', 'confirmed': 66885, 'deaths': 1523, 'recovered': 8058}, {'date': '2020-02-15', 'confirmed': 69030, 'deaths': 1666, 'recovered': 9395}, {'date': '2020-02-16', 'confirmed': 71224, 'deaths': 1770, 'recovered': 10865}, {'date': '2020-02-17', 'confirmed': 73258, 'deaths': 1868, 'recovered': 12583}, {'date': '2020-02-18', 'confirmed': 75136, 'deaths': 2007, 'recovered': 14352}, {'date': '2020-02-19', 'confirmed': 75639, 'deaths': 2122, 'recovered': 16121}, {'date': '2020-02-20', 'confirmed': 76197, 'deaths': 2247, 'recovered': 18177}, {'date': '2020-02-21', 'confirmed': 76819, 'deaths': 2251, 'recovered': 18890}, {'date': '2020-02-22', 'confirmed': 78572, 'deaths': 2458, 'recovered': 22886}, {'date': '2020-02-23', 'confirmed': 78958, 'deaths': 2469, 'recovered': 23394}, {'date': '2020-02-24', 'confirmed': 79561, 'deaths': 2629, 'recovered': 25227}, {'date': '2020-02-25', 'confirmed': 80406, 'deaths': 2708, 'recovered': 27905}, {'date': '2020-02-26', 'confirmed': 81388, 'deaths': 2770, 'recovered': 30384}, {'date': '2020-02-27', 'confirmed': 82746, 'deaths': 2814, 'recovered': 33277}, {'date': '2020-02-28', 'confirmed': 84112, 'deaths': 2872, 'recovered': 36711}, {'date': '2020-02-29', 'confirmed': 86011, 'deaths': 2941, 'recovered': 39782}, {'date': '2020-03-01', 'confirmed': 88369, 'deaths': 2996, 'recovered': 42716}, {'date': '2020-03-02', 'confirmed': 90306, 'deaths': 3085, 'recovered': 45602}, {'date': '2020-03-03', 'confirmed': 92840, 'deaths': 3160, 'recovered': 48228}, {'date': '2020-03-04', 'confirmed': 95120, 'deaths': 3254, 'recovered': 51170}, {'date': '2020-03-05', 'confirmed': 97886, 'deaths': 3347, 'recovered': 53796}, {'date': '2020-03-06', 'confirmed': 101801, 'deaths': 3459, 'recovered': 55865}, {'date': '2020-03-07', 'confirmed': 105847, 'deaths': 3558, 'recovered': 58358}, {'date': '2020-03-08', 'confirmed': 109821, 'deaths': 3801, 'recovered': 60694}, {'date': '2020-03-09', 'confirmed': 113590, 'deaths': 3987, 'recovered': 62494}, {'date': '2020-03-10', 'confirmed': 118620, 'deaths': 4263, 'recovered': 64404}, {'date': '2020-03-11', 'confirmed': 125875, 'deaths': 4614, 'recovered': 67003}, {'date': '2020-03-12', 'confirmed': 128352, 'deaths': 4722, 'recovered': 68324}, {'date': '2020-03-13', 'confirmed': 145219, 'deaths': 5408, 'recovered': 70251}, {'date': '2020-03-14', 'confirmed': 156116, 'deaths': 5830, 'recovered': 72624}, {'date': '2020-03-15', 'confirmed': 167466, 'deaths': 6472, 'recovered': 76034}, {'date': '2020-03-16', 'confirmed': 181603, 'deaths': 7150, 'recovered': 78088}, {'date': '2020-03-17', 'confirmed': 197113, 'deaths': 7956, 'recovered': 80840}, {'date': '2020-03-18', 'confirmed': 214846, 'deaths': 8823, 'recovered': 83312}, {'date': '2020-03-19', 'confirmed': 242616, 'deaths': 9946, 'recovered': 84975}, {'date': '2020-03-20', 'confirmed': 272247, 'deaths': 11422, 'recovered': 87420}, {'date': '2020-03-21', 'confirmed': 304555, 'deaths': 13125, 'recovered': 91692}, {'date': '2020-03-22', 'confirmed': 337018, 'deaths': 14825, 'recovered': 97899}, {'date': '2020-03-23', 'confirmed': 378282, 'deaths': 16759, 'recovered': 98351}, {'date': '2020-03-24', 'confirmed': 418079, 'deaths': 19014, 'recovered': 108000}, {'date': '2020-03-25', 'confirmed': 467723, 'deaths': 21785, 'recovered': 113787}, {'date': '2020-03-26', 'confirmed': 529701, 'deaths': 24788, 'recovered': 122150}, {'date': '2020-03-27', 'confirmed': 593423, 'deaths': 28288, 'recovered': 130915}, {'date': '2020-03-28', 'confirmed': 660824, 'deaths': 31797, 'recovered': 139415}, {'date': '2020-03-29', 'confirmed': 720285, 'deaths': 35323, 'recovered': 149082}, {'date': '2020-03-30', 'confirmed': 782490, 'deaths': 39439, 'recovered': 164566}, {'date': '2020-03-31', 'confirmed': 857608, 'deaths': 44238, 'recovered': 178034}, {'date': '2020-04-01', 'confirmed': 932638, 'deaths': 49675, 'recovered': 193177}, {'date': '2020-04-02', 'confirmed': 1013458, 'deaths': 55817, 'recovered': 210263}, {'date': '2020-04-03', 'confirmed': 1095876, 'deaths': 61812, 'recovered': 225796}, {'date': '2020-04-04', 'confirmed': 1176059, 'deaths': 67981, 'recovered': 246152}, {'date': '2020-04-05', 'confirmed': 1249737, 'deaths': 73076, 'recovered': 260012}, {'date': '2020-04-06', 'confirmed': 1321427, 'deaths': 78767, 'recovered': 276515}, {'date': '2020-04-07', 'confirmed': 1396438, 'deaths': 86662, 'recovered': 300054}, {'date': '2020-04-08', 'confirmed': 1480200, 'deaths': 93354, 'recovered': 328661}, {'date': '2020-04-09', 'confirmed': 1565538, 'deaths': 100882, 'recovered': 353975}, {'date': '2020-04-10', 'confirmed': 1657929, 'deaths': 108113, 'recovered': 376096}, {'date': '2020-04-11', 'confirmed': 1736025, 'deaths': 114146, 'recovered': 402110}, {'date': '2020-04-12', 'confirmed': 1835164, 'deaths': 119853, 'recovered': 421722}, {'date': '2020-04-13', 'confirmed': 1905192, 'deaths': 125561, 'recovered': 448655}, {'date': '2020-04-14', 'confirmed': 1975581, 'deaths': 132456, 'recovered': 474261}, {'date': '2020-04-15', 'confirmed': 2055506, 'deaths': 140677, 'recovered': 511019}, {'date': '2020-04-16', 'confirmed': 2151872, 'deaths': 147965, 'recovered': 542107}, {'date': '2020-04-17', 'confirmed': 2239723, 'deaths': 156824, 'recovered': 568343}, {'date': '2020-04-18', 'confirmed': 2317339, 'deaths': 163234, 'recovered': 592319}, {'date': '2020-04-19', 'confirmed': 2400894, 'deaths': 167797, 'recovered': 623912}, {'date': '2020-04-20', 'confirmed': 2471847, 'deaths': 173123, 'recovered': 645935}, {'date': '2020-04-21', 'confirmed': 2549175, 'deaths': 180268, 'recovered': 680532}, {'date': '2020-04-22', 'confirmed': 2624741, 'deaths': 186945, 'recovered': 710702}, {'date': '2020-04-23', 'confirmed': 2708547, 'deaths': 193698, 'recovered': 739672}, {'date': '2020-04-24', 'confirmed': 2795875, 'deaths': 200030, 'recovered': 790374}, {'date': '2020-04-25', 'confirmed': 2881140, 'deaths': 206218, 'recovered': 818192}, {'date': '2020-04-26', 'confirmed': 2955033, 'deaths': 209931, 'recovered': 846763}, {'date': '2020-04-27', 'confirmed': 3023722, 'deaths': 214515, 'recovered': 874457}, {'date': '2020-04-28', 'confirmed': 3097190, 'deaths': 220830, 'recovered': 907832}, {'date': '2020-04-29', 'confirmed': 3172287, 'deaths': 227696, 'recovered': 949315}, {'date': '2020-04-30', 'confirmed': 3256853, 'deaths': 233388, 'recovered': 1014775}, {'date': '2020-05-01', 'confirmed': 3343777, 'deaths': 238650, 'recovered': 1053327}]\n"
     ]
    }
   ],
   "source": [
    "global_timeline = countries_result.iloc[0].timeline\n",
    "print(\"Data in {} days.\".format(len(global_timeline)))\n",
    "for i in range(len(global_timeline)):\n",
    "    global_daily_confirmed = 0\n",
    "    global_daily_deaths = 0\n",
    "    global_daily_recovered = 0\n",
    "    for tl in countries_result.timeline:\n",
    "        global_daily_confirmed += tl[i]['confirmed']\n",
    "        global_daily_deaths += tl[i]['deaths']\n",
    "        global_daily_recovered += tl[i]['recovered']\n",
    "    global_timeline[i]['confirmed'] = global_daily_confirmed\n",
    "    global_timeline[i]['deaths'] = global_daily_deaths\n",
    "    global_timeline[i]['recovered'] = global_daily_recovered\n",
    "print(global_timeline)"
   ]
  },
  {
   "cell_type": "code",
   "execution_count": 22,
   "metadata": {},
   "outputs": [],
   "source": [
    "global_data = {\n",
    "    'country': 'global',\n",
    "    'latest': global_latest,\n",
    "    'timeline': global_timeline\n",
    "}\n",
    "with open('global_timeline.json', 'w') as f:\n",
    "    json.dump(global_data, f)"
   ]
  },
  {
   "cell_type": "code",
   "execution_count": null,
   "metadata": {},
   "outputs": [],
   "source": []
  }
 ],
 "metadata": {
  "kernelspec": {
   "display_name": "Python 3",
   "language": "python",
   "name": "python3"
  },
  "language_info": {
   "codemirror_mode": {
    "name": "ipython",
    "version": 3
   },
   "file_extension": ".py",
   "mimetype": "text/x-python",
   "name": "python",
   "nbconvert_exporter": "python",
   "pygments_lexer": "ipython3",
   "version": "3.7.4"
  },
  "toc": {
   "base_numbering": 1,
   "nav_menu": {},
   "number_sections": true,
   "sideBar": true,
   "skip_h1_title": false,
   "title_cell": "Table of Contents",
   "title_sidebar": "Contents",
   "toc_cell": false,
   "toc_position": {},
   "toc_section_display": true,
   "toc_window_display": false
  }
 },
 "nbformat": 4,
 "nbformat_minor": 2
}
